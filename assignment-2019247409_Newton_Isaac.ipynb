{
 "cells": [
  {
   "cell_type": "code",
   "execution_count": 1,
   "id": "c7405782-0f90-484a-a2bd-ea64ae89f980",
   "metadata": {},
   "outputs": [],
   "source": [
    "import numpy as np"
   ]
  },
  {
   "cell_type": "code",
   "execution_count": 3,
   "id": "33aee8f6-7d38-4559-a177-019a18f12f2c",
   "metadata": {},
   "outputs": [
    {
     "name": "stdin",
     "output_type": "stream",
     "text": [
      "Enter the value of a:  2\n",
      "Enter the value of b:  3\n",
      "Enter the value of c:  4\n"
     ]
    },
    {
     "name": "stdout",
     "output_type": "stream",
     "text": [
      "Solution will have imaginary roots.\n",
      "((-4.440892098500626e-16-4.795831523312719j), (1.1525741298268803+2.0804872325362127j))\n"
     ]
    }
   ],
   "source": [
    "def solve(a, b, c):\n",
    "    x1 = (b**2) - (4*a*c)\n",
    "    if x1 < 0:\n",
    "        print(\"Solution will have imaginary roots.\")\n",
    "    else:\n",
    "        print(\"Both roots will be real numbers.\")\n",
    "    x1 = x1**0.5\n",
    "    x1 = (-b + x1) / 2*a\n",
    "    x2 = (b**2) - (4*a*c)\n",
    "    x2 = x1**0.5\n",
    "    x1 = (-b - x1) / 2*a\n",
    "    return x1, x2\n",
    "\n",
    "def findRoot():\n",
    "    A = float(input(\"Enter the value of a: \"))\n",
    "    B = float(input(\"Enter the value of b: \"))\n",
    "    C = float(input(\"Enter the value of c: \"))\n",
    "    print(solve(A, B, C))\n",
    "    \n",
    "findRoot()        "
   ]
  },
  {
   "cell_type": "code",
   "execution_count": 7,
   "id": "20814ec6-7384-4453-a1fe-23ef9d2bc1e6",
   "metadata": {},
   "outputs": [
    {
     "name": "stdout",
     "output_type": "stream",
     "text": [
      "Matrix A: \n"
     ]
    },
    {
     "name": "stdin",
     "output_type": "stream",
     "text": [
      "Enter Number of rows:  a\n"
     ]
    },
    {
     "name": "stdout",
     "output_type": "stream",
     "text": [
      "Exit..\n"
     ]
    }
   ],
   "source": [
    "def inputMatrix(name):\n",
    "    box = []\n",
    "    rows = input(\"Enter Number of rows: \")\n",
    "    if rows == 'a':\n",
    "        return None\n",
    "    rows = int(rows)\n",
    "    cols = input(\"Enter Number of columns: \")\n",
    "    if rows == 'a':\n",
    "        return None\n",
    "    cols = int(cols)\n",
    "    dim = rows * cols\n",
    "    for i in range(rows):\n",
    "        for j in range(cols):\n",
    "            num = input(\"Enter {}{}{}:\".format(name, i, j))\n",
    "            if num == 'a':\n",
    "                return None\n",
    "            else:\n",
    "                box.append(float(num))\n",
    "    return np.array(box).reshape(rows, cols)\n",
    "\n",
    "def multiplyMatrix():\n",
    "    while True:\n",
    "        print(\"Matrix A: \")\n",
    "        A = inputMatrix('A')\n",
    "        if A == None:\n",
    "            break\n",
    "        print(\"Matrix B: \")\n",
    "        B = inputMatrix('B')\n",
    "        if B == None:\n",
    "            break\n",
    "        try:\n",
    "            result = np.matmul(A, B)\n",
    "            print(result)\n",
    "        except ValueError:\n",
    "            print(\"Cannot Multiply this matrix.\")\n",
    "    print(\"Exit..\")\n",
    "\n",
    "\n",
    "multiplyMatrix()"
   ]
  },
  {
   "cell_type": "code",
   "execution_count": 8,
   "id": "0b1727b4-f276-41c7-9ba0-e05cb7ad2887",
   "metadata": {},
   "outputs": [
    {
     "data": {
      "text/plain": [
       "array(3.14159265)"
      ]
     },
     "execution_count": 8,
     "metadata": {},
     "output_type": "execute_result"
    }
   ],
   "source": [
    "a_row_mat = np.array(np.pi)\n",
    "a_row_mat"
   ]
  },
  {
   "cell_type": "code",
   "execution_count": 9,
   "id": "028b6b08-6e28-474f-beec-f71314cf5a7f",
   "metadata": {},
   "outputs": [
    {
     "data": {
      "text/plain": [
       "array([-5.0000000e+00, -4.8000000e+00, -4.6000000e+00, -4.4000000e+00,\n",
       "       -4.2000000e+00, -4.0000000e+00, -3.8000000e+00, -3.6000000e+00,\n",
       "       -3.4000000e+00, -3.2000000e+00, -3.0000000e+00, -2.8000000e+00,\n",
       "       -2.6000000e+00, -2.4000000e+00, -2.2000000e+00, -2.0000000e+00,\n",
       "       -1.8000000e+00, -1.6000000e+00, -1.4000000e+00, -1.2000000e+00,\n",
       "       -1.0000000e+00, -8.0000000e-01, -6.0000000e-01, -4.0000000e-01,\n",
       "       -2.0000000e-01,  4.4408921e-15,  2.0000000e-01,  4.0000000e-01,\n",
       "        6.0000000e-01,  8.0000000e-01,  1.0000000e+00,  1.2000000e+00,\n",
       "        1.4000000e+00,  1.6000000e+00,  1.8000000e+00,  2.0000000e+00,\n",
       "        2.2000000e+00,  2.4000000e+00,  2.6000000e+00,  2.8000000e+00,\n",
       "        3.0000000e+00,  3.2000000e+00,  3.4000000e+00,  3.6000000e+00,\n",
       "        3.8000000e+00,  4.0000000e+00,  4.2000000e+00,  4.4000000e+00,\n",
       "        4.6000000e+00,  4.8000000e+00])"
      ]
     },
     "execution_count": 9,
     "metadata": {},
     "output_type": "execute_result"
    }
   ],
   "source": [
    "b_row_mat = np.array(np.arange(-5, 5, 0.2))\n",
    "b_row_mat"
   ]
  },
  {
   "cell_type": "code",
   "execution_count": 10,
   "id": "e603ffc2-6f3a-465a-b064-59a772457cc9",
   "metadata": {},
   "outputs": [],
   "source": [
    "A = np.array([[6, 0, 4], [1, 5, -3]])\n",
    "B = np.array([[2, 9], [8, 0], [-4, 7]])"
   ]
  },
  {
   "cell_type": "code",
   "execution_count": 11,
   "id": "a4e923b1-0ed3-4a14-9ca5-5f326f885cd6",
   "metadata": {},
   "outputs": [
    {
     "data": {
      "text/plain": [
       "array([[18,  0, 12],\n",
       "       [ 3, 15, -9]])"
      ]
     },
     "execution_count": 11,
     "metadata": {},
     "output_type": "execute_result"
    }
   ],
   "source": [
    "3*A"
   ]
  },
  {
   "cell_type": "code",
   "execution_count": 12,
   "id": "1a0ec85e-b04c-49d5-921c-a8103ff89ca3",
   "metadata": {},
   "outputs": [
    {
     "data": {
      "text/plain": [
       "array([[ -4,  82],\n",
       "       [ 54, -12]])"
      ]
     },
     "execution_count": 12,
     "metadata": {},
     "output_type": "execute_result"
    }
   ],
   "source": [
    "np.dot(A, B)"
   ]
  },
  {
   "cell_type": "code",
   "execution_count": 13,
   "id": "1da98bf8-a2d2-4a68-8144-2d182c6d4759",
   "metadata": {},
   "outputs": [
    {
     "data": {
      "text/plain": [
       "array([[ 21,  45, -19],\n",
       "       [ 48,   0,  32],\n",
       "       [-17,  35, -37]])"
      ]
     },
     "execution_count": 13,
     "metadata": {},
     "output_type": "execute_result"
    }
   ],
   "source": [
    "np.dot(B, A)"
   ]
  },
  {
   "cell_type": "code",
   "execution_count": null,
   "id": "61b80f0e-f2ac-4f9d-a6cd-7656a7927ddf",
   "metadata": {},
   "outputs": [],
   "source": []
  }
 ],
 "metadata": {
  "kernelspec": {
   "display_name": "Python 3 (ipykernel)",
   "language": "python",
   "name": "python3"
  },
  "language_info": {
   "codemirror_mode": {
    "name": "ipython",
    "version": 3
   },
   "file_extension": ".py",
   "mimetype": "text/x-python",
   "name": "python",
   "nbconvert_exporter": "python",
   "pygments_lexer": "ipython3",
   "version": "3.9.16"
  }
 },
 "nbformat": 4,
 "nbformat_minor": 5
}
