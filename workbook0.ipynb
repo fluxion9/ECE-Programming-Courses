{
 "cells": [
  {
   "cell_type": "code",
   "execution_count": 1,
   "id": "c544f7ea-9b18-4408-9986-3e5c39d19e7f",
   "metadata": {},
   "outputs": [],
   "source": [
    "import numpy as np\n",
    "from math import sqrt"
   ]
  },
  {
   "cell_type": "code",
   "execution_count": 1,
   "id": "c25f1575-58c6-415e-8a66-034d729642e8",
   "metadata": {},
   "outputs": [],
   "source": [
    "def solve(a, b, c):\n",
    "    x1 = (b**2) - (4*a*c)\n",
    "    x1 = x1**0.5\n",
    "    x1 = (-b + x1) / 2*a\n",
    "    x2 = (b**2) - (4*a*c)\n",
    "    x2 = x1**0.5\n",
    "    x1 = (-b - x1) / 2*a\n",
    "    print(type(x2))\n",
    "    return x1, x2"
   ]
  },
  {
   "cell_type": "code",
   "execution_count": 2,
   "id": "3eda8ffb-2671-4e01-b03f-3e6aea66edd6",
   "metadata": {},
   "outputs": [
    {
     "name": "stdout",
     "output_type": "stream",
     "text": [
      "<class 'complex'>\n"
     ]
    },
    {
     "data": {
      "text/plain": [
       "(-1.8660254037844386, (3.1696191514317656e-17+0.5176380902050416j))"
      ]
     },
     "execution_count": 2,
     "metadata": {},
     "output_type": "execute_result"
    }
   ],
   "source": [
    "solve(1, 4, 1)"
   ]
  },
  {
   "cell_type": "code",
   "execution_count": null,
   "id": "53eed2c5-1b48-4972-a2ab-9b463a83534e",
   "metadata": {},
   "outputs": [],
   "source": [
    "def mat_prod(A, B):\n",
    "    TypeA = type(A)\n",
    "    TypeB = type(B)\n",
    "    if TypeA == '<class \\'list\\'>' and TypeB == '<class \\'list\\'>':\n",
    "        arrA = np.array(A)\n",
    "        arrB = np.array(B)\n",
    "        return np.matmul(arrA, arrB)\n",
    "    elif TypeA == '<class \\'numpy.ndarray\\'>' and TypeB == '<class \\'numpy.ndarray\\'>':\n",
    "        return matmul(A, B)\n",
    "        "
   ]
  },
  {
   "cell_type": "code",
   "execution_count": 45,
   "id": "52f5d1f1-e3af-4fad-a6c5-5086d70fca65",
   "metadata": {},
   "outputs": [],
   "source": [
    "import sympy"
   ]
  },
  {
   "cell_type": "code",
   "execution_count": 55,
   "id": "f04175cc-0b8f-4bcb-b866-695571125d7d",
   "metadata": {},
   "outputs": [],
   "source": [
    "x1,x2,x3 = sympy.symbols('x1, x2, x3')"
   ]
  },
  {
   "cell_type": "code",
   "execution_count": 57,
   "id": "83378c3d-56cb-4fd3-8074-1b79c2ba50ae",
   "metadata": {},
   "outputs": [],
   "source": [
    "solution_eqn = sympy.solve([(x1-2*x2-x3-4), (3*x1 + 4*x2 + 2*x3 - 2), (5*x1 + 3*x2 - 5*x3 + 1)], dict = True)"
   ]
  },
  {
   "cell_type": "code",
   "execution_count": 58,
   "id": "76f93bd7-205b-47ad-8b1f-7d4d12c8a277",
   "metadata": {},
   "outputs": [
    {
     "data": {
      "text/plain": [
       "[{x1: 2, x2: -21/13, x3: 16/13}]"
      ]
     },
     "execution_count": 58,
     "metadata": {},
     "output_type": "execute_result"
    }
   ],
   "source": [
    "solution_eqn"
   ]
  },
  {
   "cell_type": "code",
   "execution_count": 59,
   "id": "b516567f-d1d0-4d9b-a895-0d5746e089f6",
   "metadata": {},
   "outputs": [],
   "source": [
    "from sympy import cos, diff\n",
    "x = sympy.Symbol('x')"
   ]
  },
  {
   "cell_type": "code",
   "execution_count": 60,
   "id": "2cf1061b-11c6-4386-a7fd-f8428bbfbf88",
   "metadata": {},
   "outputs": [],
   "source": [
    "y = cos(x)"
   ]
  },
  {
   "cell_type": "code",
   "execution_count": 63,
   "id": "d40923c6-b37a-457b-ab46-b0cc48b5238b",
   "metadata": {},
   "outputs": [
    {
     "data": {
      "text/latex": [
       "$\\displaystyle - \\sin{\\left(x \\right)}$"
      ],
      "text/plain": [
       "-sin(x)"
      ]
     },
     "execution_count": 63,
     "metadata": {},
     "output_type": "execute_result"
    }
   ],
   "source": [
    "dy_dx = diff(y, x)\n",
    "dy_dx"
   ]
  },
  {
   "cell_type": "code",
   "execution_count": 64,
   "id": "1c70ad8d-2998-46cf-842e-bbec759571a5",
   "metadata": {},
   "outputs": [],
   "source": [
    "y = x**9 + 10*x**2 + 3*x"
   ]
  },
  {
   "cell_type": "code",
   "execution_count": 66,
   "id": "9e6cd277-98fd-4503-a252-aa85f2b57d13",
   "metadata": {},
   "outputs": [
    {
     "data": {
      "text/latex": [
       "$\\displaystyle 9 x^{8} + 20 x + 3$"
      ],
      "text/plain": [
       "9*x**8 + 20*x + 3"
      ]
     },
     "execution_count": 66,
     "metadata": {},
     "output_type": "execute_result"
    }
   ],
   "source": [
    "dy_dx = diff(y, x)\n",
    "dy_dx"
   ]
  },
  {
   "cell_type": "code",
   "execution_count": 70,
   "id": "d5ad6886-89e6-4435-b53d-496f0c87565e",
   "metadata": {},
   "outputs": [],
   "source": [
    "from sympy import exp, sin\n",
    "y = exp(sin(2*x))"
   ]
  },
  {
   "cell_type": "code",
   "execution_count": 71,
   "id": "871e073f-2ef8-4932-8c36-166ab8410609",
   "metadata": {},
   "outputs": [
    {
     "data": {
      "text/latex": [
       "$\\displaystyle 2 e^{\\sin{\\left(2 x \\right)}} \\cos{\\left(2 x \\right)}$"
      ],
      "text/plain": [
       "2*exp(sin(2*x))*cos(2*x)"
      ]
     },
     "execution_count": 71,
     "metadata": {},
     "output_type": "execute_result"
    }
   ],
   "source": [
    "dy_dx = diff(y, x)\n",
    "dy_dx"
   ]
  },
  {
   "cell_type": "code",
   "execution_count": 72,
   "id": "ef7a0979-f507-4343-ba4e-f869eca505f2",
   "metadata": {},
   "outputs": [],
   "source": [
    "from sympy import integrate"
   ]
  },
  {
   "cell_type": "code",
   "execution_count": 80,
   "id": "70faf95e-38b4-4947-952d-c267ad45e48d",
   "metadata": {},
   "outputs": [],
   "source": [
    "y = cos(x)**4"
   ]
  },
  {
   "cell_type": "code",
   "execution_count": 81,
   "id": "0d96506c-7afd-4890-92ab-4080c673cbbf",
   "metadata": {},
   "outputs": [
    {
     "data": {
      "text/latex": [
       "$\\displaystyle \\frac{3 x}{8} + \\frac{\\sin{\\left(x \\right)} \\cos^{3}{\\left(x \\right)}}{4} + \\frac{3 \\sin{\\left(x \\right)} \\cos{\\left(x \\right)}}{8}$"
      ],
      "text/plain": [
       "3*x/8 + sin(x)*cos(x)**3/4 + 3*sin(x)*cos(x)/8"
      ]
     },
     "execution_count": 81,
     "metadata": {},
     "output_type": "execute_result"
    }
   ],
   "source": [
    "solution = integrate(y, x)\n",
    "solution"
   ]
  },
  {
   "cell_type": "code",
   "execution_count": 82,
   "id": "7f6fc4cd-f9a3-4805-bd2b-1dcda574bb6f",
   "metadata": {},
   "outputs": [],
   "source": [
    "exp = (3*x + 4*y)"
   ]
  },
  {
   "cell_type": "code",
   "execution_count": 84,
   "id": "4e4392dd-23b9-4b9c-939a-be21c830e2a5",
   "metadata": {},
   "outputs": [
    {
     "data": {
      "text/latex": [
       "$\\displaystyle 11$"
      ],
      "text/plain": [
       "11"
      ]
     },
     "execution_count": 84,
     "metadata": {},
     "output_type": "execute_result"
    }
   ],
   "source": [
    "solution = exp.subs({x:1, y:2})\n",
    "solution"
   ]
  },
  {
   "cell_type": "code",
   "execution_count": null,
   "id": "81a16a46-98a4-434e-8c2a-377fc7723485",
   "metadata": {},
   "outputs": [
    {
     "name": "stdout",
     "output_type": "stream",
     "text": [
      "Matrix A: \n"
     ]
    },
    {
     "name": "stdin",
     "output_type": "stream",
     "text": [
      "Enter Number of rows:  2\n",
      "Enter Number of columns:  2\n",
      "Enter A00: 1\n",
      "Enter A01: 2\n",
      "Enter A10: 3\n",
      "Enter A11: 4\n"
     ]
    },
    {
     "name": "stdout",
     "output_type": "stream",
     "text": [
      "Matrix B: \n"
     ]
    },
    {
     "name": "stdin",
     "output_type": "stream",
     "text": [
      "Enter Number of rows:  2\n",
      "Enter Number of columns:  2\n",
      "Enter B00: 5\n",
      "Enter B01: 6\n",
      "Enter B10: 7\n",
      "Enter B11: 8\n"
     ]
    },
    {
     "name": "stdout",
     "output_type": "stream",
     "text": [
      "[[19. 22.]\n",
      " [43. 50.]]\n",
      "Matrix A: \n"
     ]
    }
   ],
   "source": [
    "def inputMatrix(name):\n",
    "    box = []\n",
    "    rows = int(input(\"Enter Number of rows: \"))\n",
    "    cols = int(input(\"Enter Number of columns: \"))\n",
    "    dim = rows * cols\n",
    "    for i in range(rows):\n",
    "        for j in range(cols):\n",
    "            num = input(\"Enter {}{}{}:\".format(name, i, j))\n",
    "            if num == 'a':\n",
    "                break\n",
    "            else:\n",
    "                box.append(float(num))\n",
    "    return np.array(box).reshape(rows, cols)\n",
    "\n",
    "def multiplyMatrix():\n",
    "    while True:\n",
    "        print(\"Matrix A: \")\n",
    "        A = inputMatrix('A')\n",
    "        print(\"Matrix B: \")\n",
    "        B = inputMatrix('B')\n",
    "        try:\n",
    "            result = np.matmul(A, B)\n",
    "            print(result)\n",
    "        except ValueError:\n",
    "            print(\"Cannot Multiply this matrix.\")\n",
    "\n",
    "\n",
    "multiplyMatrix()\n",
    "    "
   ]
  },
  {
   "cell_type": "code",
   "execution_count": 29,
   "id": "2ad77549-81eb-4ca1-925f-f52ea3bd700a",
   "metadata": {},
   "outputs": [
    {
     "data": {
      "text/plain": [
       "array(3.14159265)"
      ]
     },
     "execution_count": 29,
     "metadata": {},
     "output_type": "execute_result"
    }
   ],
   "source": [
    "a_row_mat = np.array(np.pi)\n",
    "a_row_mat"
   ]
  },
  {
   "cell_type": "code",
   "execution_count": 33,
   "id": "41af77fa-59f9-482a-a395-1fc432dfec51",
   "metadata": {},
   "outputs": [
    {
     "data": {
      "text/plain": [
       "array([-5.0000000e+00, -4.8000000e+00, -4.6000000e+00, -4.4000000e+00,\n",
       "       -4.2000000e+00, -4.0000000e+00, -3.8000000e+00, -3.6000000e+00,\n",
       "       -3.4000000e+00, -3.2000000e+00, -3.0000000e+00, -2.8000000e+00,\n",
       "       -2.6000000e+00, -2.4000000e+00, -2.2000000e+00, -2.0000000e+00,\n",
       "       -1.8000000e+00, -1.6000000e+00, -1.4000000e+00, -1.2000000e+00,\n",
       "       -1.0000000e+00, -8.0000000e-01, -6.0000000e-01, -4.0000000e-01,\n",
       "       -2.0000000e-01,  4.4408921e-15,  2.0000000e-01,  4.0000000e-01,\n",
       "        6.0000000e-01,  8.0000000e-01,  1.0000000e+00,  1.2000000e+00,\n",
       "        1.4000000e+00,  1.6000000e+00,  1.8000000e+00,  2.0000000e+00,\n",
       "        2.2000000e+00,  2.4000000e+00,  2.6000000e+00,  2.8000000e+00,\n",
       "        3.0000000e+00,  3.2000000e+00,  3.4000000e+00,  3.6000000e+00,\n",
       "        3.8000000e+00,  4.0000000e+00,  4.2000000e+00,  4.4000000e+00,\n",
       "        4.6000000e+00,  4.8000000e+00])"
      ]
     },
     "execution_count": 33,
     "metadata": {},
     "output_type": "execute_result"
    }
   ],
   "source": [
    "b_row_mat = np.array(np.arange(-5, 5, 0.2))\n",
    "b_row_mat"
   ]
  },
  {
   "cell_type": "code",
   "execution_count": 34,
   "id": "0049ec06-65cd-47d8-907c-ffd19e35f743",
   "metadata": {},
   "outputs": [],
   "source": [
    "A = np.array([[6, 0, 4], [1, 5, -3]])\n",
    "B = np.array([[2, 9], [8, 0], [-4, 7]])"
   ]
  },
  {
   "cell_type": "code",
   "execution_count": 35,
   "id": "caa7e010-a0c0-4d30-8f9a-31957e724490",
   "metadata": {},
   "outputs": [
    {
     "data": {
      "text/plain": [
       "array([[18,  0, 12],\n",
       "       [ 3, 15, -9]])"
      ]
     },
     "execution_count": 35,
     "metadata": {},
     "output_type": "execute_result"
    }
   ],
   "source": [
    "3*A"
   ]
  },
  {
   "cell_type": "code",
   "execution_count": 36,
   "id": "bbca21b3-9d49-48ca-a103-1a11e5e2b723",
   "metadata": {},
   "outputs": [
    {
     "data": {
      "text/plain": [
       "array([[ -4,  82],\n",
       "       [ 54, -12]])"
      ]
     },
     "execution_count": 36,
     "metadata": {},
     "output_type": "execute_result"
    }
   ],
   "source": [
    "np.dot(A, B)"
   ]
  },
  {
   "cell_type": "code",
   "execution_count": 37,
   "id": "91dae92e-fb7e-409d-9bb3-07316a40e944",
   "metadata": {},
   "outputs": [
    {
     "data": {
      "text/plain": [
       "array([[ 21,  45, -19],\n",
       "       [ 48,   0,  32],\n",
       "       [-17,  35, -37]])"
      ]
     },
     "execution_count": 37,
     "metadata": {},
     "output_type": "execute_result"
    }
   ],
   "source": [
    "np.dot(B, A)"
   ]
  },
  {
   "cell_type": "code",
   "execution_count": null,
   "id": "3d264841-a976-4371-961e-287aaefbd41e",
   "metadata": {},
   "outputs": [],
   "source": []
  }
 ],
 "metadata": {
  "kernelspec": {
   "display_name": "Python 3 (ipykernel)",
   "language": "python",
   "name": "python3"
  },
  "language_info": {
   "codemirror_mode": {
    "name": "ipython",
    "version": 3
   },
   "file_extension": ".py",
   "mimetype": "text/x-python",
   "name": "python",
   "nbconvert_exporter": "python",
   "pygments_lexer": "ipython3",
   "version": "3.9.16"
  }
 },
 "nbformat": 4,
 "nbformat_minor": 5
}
